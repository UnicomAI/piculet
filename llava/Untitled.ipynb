{
 "cells": [
  {
   "cell_type": "code",
   "execution_count": null,
   "id": "5d593eaf-da29-40f8-b653-98b88a22d2d2",
   "metadata": {},
   "outputs": [],
   "source": [
    "    --model-path liuhaotian/llava-v1.5-13b \\\n",
    "    --question-file ./playground/data/eval/pope/llava_pope_test.jsonl \\\n",
    "    --image-folder ./playground/data/eval/pope/val2014 \\\n",
    "    --answers-file ./playground/data/eval/pope/answers/llava-v1.5-13b.jsonl \\\n",
    "    --temperature 0 \\\n",
    "    --conv-mode vicuna_v1"
   ]
  }
 ],
 "metadata": {
  "kernelspec": {
   "display_name": "Python 3 (ipykernel)",
   "language": "python",
   "name": "python3"
  },
  "language_info": {
   "codemirror_mode": {
    "name": "ipython",
    "version": 3
   },
   "file_extension": ".py",
   "mimetype": "text/x-python",
   "name": "python",
   "nbconvert_exporter": "python",
   "pygments_lexer": "ipython3",
   "version": "3.8.17"
  }
 },
 "nbformat": 4,
 "nbformat_minor": 5
}

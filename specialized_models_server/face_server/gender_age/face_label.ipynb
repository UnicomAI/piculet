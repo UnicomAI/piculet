{
 "cells": [
  {
   "cell_type": "code",
   "execution_count": 1,
   "id": "7baf4835-a601-4b35-a13d-ebd3f9a3e759",
   "metadata": {},
   "outputs": [],
   "source": [
    "import pickle\n",
    "with open(\"face_data.pkl\", \"rb\") as file:\n",
    "    face_datas = pickle.load(file)"
   ]
  },
  {
   "cell_type": "code",
   "execution_count": 3,
   "id": "963e6411-cd3f-4365-9dbe-67dede54360f",
   "metadata": {},
   "outputs": [],
   "source": [
    "names = face_datas.keys()"
   ]
  },
  {
   "cell_type": "code",
   "execution_count": 5,
   "id": "f92aab54-6581-4e76-9068-a6213de3baac",
   "metadata": {},
   "outputs": [],
   "source": [
    "names = list(names)"
   ]
  },
  {
   "cell_type": "code",
   "execution_count": 7,
   "id": "5208dbe4-21c6-49cc-98e2-286eda0ea596",
   "metadata": {},
   "outputs": [],
   "source": [
    "with open(\"face_names.pkl\", \"wb\") as file:\n",
    "    pickle.dump(names,file)"
   ]
  },
  {
   "cell_type": "code",
   "execution_count": 8,
   "id": "4befb174-6db8-4a5b-9d27-432c3f0de23f",
   "metadata": {},
   "outputs": [],
   "source": [
    "import pickle\n",
    "with open(\"face_names.pkl\", \"rb\") as file:\n",
    "    names = pickle.load(file)"
   ]
  },
  {
   "cell_type": "code",
   "execution_count": 2,
   "id": "134ee51a-f3e8-4ab1-b91f-cc632d5fdc7a",
   "metadata": {},
   "outputs": [
    {
     "name": "stdout",
     "output_type": "stream",
     "text": [
      "EP Error Unknown Provider Type: C when using CUDAExecutionProvider\n",
      "Falling back to ['CPUExecutionProvider'] and retrying.\n",
      "EP Error Unknown Provider Type: C when using CUDAExecutionProvider\n",
      "Falling back to ['CPUExecutionProvider'] and retrying.\n",
      "['output'] input\n",
      "(2, 512)\n",
      "(2,)\n"
     ]
    }
   ],
   "source": [
    "#coding=utf8\n",
    "\n",
    "import json\n",
    "from flask import Flask, make_response, request\n",
    "import os\n",
    "import sys\n",
    "app = Flask(__name__)\n",
    "import random\n",
    "import string\n",
    "\n",
    "#app = Flask(__name__)\n",
    "\n",
    "import time\n",
    "import random\n",
    "import string\n",
    "#import exceptions\n",
    "import threading\n",
    "import json\n",
    "import pickle\n",
    "import cv2\n",
    "import numpy as np\n",
    "from align_img_gender_age import FaceModel\n",
    "\n",
    "net = FaceModel()\n",
    "def test(net):\n",
    "    img = cv2.imread('123.jpg')\n",
    "    faces = net.getFeature(img)\n",
    "    f1 = faces[0].feature\n",
    "    f_list = []\n",
    "    f_list.append(f1)\n",
    "    f_list.append(f1)\n",
    "    f_list = np.array(f_list)\n",
    "    print(f_list.shape)\n",
    "    out = np.dot(f_list,f1)\n",
    "    print(out.shape)\n",
    "test(net)"
   ]
  },
  {
   "cell_type": "code",
   "execution_count": 4,
   "id": "692c9583-caa7-4fe4-8806-ec7a3293ff3d",
   "metadata": {},
   "outputs": [
    {
     "name": "stdout",
     "output_type": "stream",
     "text": [
      "更新成功\n",
      "['output'] input\n",
      "['output'] input\n",
      "['output'] input\n"
     ]
    }
   ],
   "source": [
    "#coding=utf8\n",
    "\n",
    "import json\n",
    "from flask import Flask, make_response, request\n",
    "import os\n",
    "import sys\n",
    "app = Flask(__name__)\n",
    "import random\n",
    "import string\n",
    "\n",
    "#app = Flask(__name__)\n",
    "\n",
    "import time\n",
    "import random\n",
    "import string\n",
    "#import exceptions\n",
    "import threading\n",
    "import json\n",
    "import pickle\n",
    "import cv2\n",
    "import numpy as np\n",
    "from align_img_gender_age import FaceModel\n",
    "\n",
    "net = FaceModel()\n",
    "featureLib={}\n",
    "\n",
    "def update(featureLib):\n",
    "    if os.path.exists(\"face_data.pkl\"):\n",
    "        with open(\"face_data.pkl\", \"rb\") as file:\n",
    "            face_datas = pickle.load(file)\n",
    "        featureslist=[]\n",
    "        idlist = []\n",
    "        for k,v in face_datas.items():\n",
    "            idlist.append(k)\n",
    "            featureslist.append(v)\n",
    "        feature = np.array(featureslist)\n",
    "        print(\"更新成功\")\n",
    "        featureLib['face_datas']=face_datas\n",
    "        featureLib['idlist']=idlist\n",
    "        featureLib['featureslist']=featureslist\n",
    "        featureLib['feature']=feature\n",
    "\n",
    "update(featureLib)\n",
    "img = cv2.imread('123.jpg')\n",
    "faces = net.getFeature(img)\n",
    "results=[]\n",
    "feature = featureLib['feature']\n",
    "idlist = featureLib['idlist']\n",
    "for face in faces:\n",
    "    out = np.dot(feature,face.feature)\n",
    "    sim = np.max(out)\n",
    "    index = np.argmax(out)\n",
    "    if sim>0.4:\n",
    "        reg_id = {'sim':str(sim), 'id':idlist[index]}\n",
    "    else:\n",
    "        reg_id = {'sim':str(sim), 'id':'unknown'}\n",
    "    results.append(reg_id)\n",
    "print(results)"
   ]
  },
  {
   "cell_type": "code",
   "execution_count": 5,
   "id": "519a0cdf-ac0f-4afd-87ac-acd0bb91f2b9",
   "metadata": {},
   "outputs": [
    {
     "data": {
      "text/plain": [
       "[{'sim': '0.84500486', 'id': '吴奇隆'},\n",
       " {'sim': '0.83779323', 'id': '陈志朋'},\n",
       " {'sim': '0.8115882', 'id': '苏有朋'}]"
      ]
     },
     "execution_count": 5,
     "metadata": {},
     "output_type": "execute_result"
    }
   ],
   "source": [
    "results"
   ]
  },
  {
   "cell_type": "code",
   "execution_count": 9,
   "id": "b92984d2-fea8-4984-9f7b-4b16c246e3a8",
   "metadata": {},
   "outputs": [],
   "source": [
    "facesmap = {}\n",
    "for face in faces:\n",
    "    facesmap[face.bbox[0]+face.bbox[1]]=face\n",
    "facesmap = sorted(facesmap.items(), key=lambda x: x[0])"
   ]
  },
  {
   "cell_type": "code",
   "execution_count": 12,
   "id": "961a1b9c-89d2-4f4c-81e6-d709b4aa09e7",
   "metadata": {},
   "outputs": [
    {
     "name": "stdout",
     "output_type": "stream",
     "text": [
      "陈志朋\n",
      "吴奇隆\n",
      "苏有朋\n"
     ]
    }
   ],
   "source": [
    "facesmap = {}\n",
    "for face in faces:\n",
    "    facesmap[face.bbox[0]+face.bbox[1]]=face\n",
    "facesmap = sorted(facesmap.items(), key=lambda x: x[0])\n",
    "for _,face in facesmap:\n",
    "    out = np.dot(feature,face.feature)\n",
    "    sim = np.max(out)\n",
    "    index = np.argmax(out)\n",
    "    if sim>0.4:\n",
    "        reg_id = {'sim':str(sim), 'id':idlist[index]}\n",
    "    else:\n",
    "        reg_id = {'sim':str(sim), 'id':'unknown'}\n",
    "    results.append(reg_id)"
   ]
  },
  {
   "cell_type": "code",
   "execution_count": null,
   "id": "9a17bbdc-afbc-41b6-a077-2bb2e7b3d791",
   "metadata": {},
   "outputs": [],
   "source": []
  }
 ],
 "metadata": {
  "kernelspec": {
   "display_name": "lxenv",
   "language": "python",
   "name": "lxenv"
  },
  "language_info": {
   "codemirror_mode": {
    "name": "ipython",
    "version": 3
   },
   "file_extension": ".py",
   "mimetype": "text/x-python",
   "name": "python",
   "nbconvert_exporter": "python",
   "pygments_lexer": "ipython3",
   "version": "3.11.4"
  }
 },
 "nbformat": 4,
 "nbformat_minor": 5
}
